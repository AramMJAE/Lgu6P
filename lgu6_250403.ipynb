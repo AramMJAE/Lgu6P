{
 "cells": [
  {
   "cell_type": "code",
   "execution_count": 1,
   "id": "9a17df93-b7ad-407e-82ce-f88d62148893",
   "metadata": {},
   "outputs": [
    {
     "data": {
      "text/html": [
       "<div>\n",
       "<style scoped>\n",
       "    .dataframe tbody tr th:only-of-type {\n",
       "        vertical-align: middle;\n",
       "    }\n",
       "\n",
       "    .dataframe tbody tr th {\n",
       "        vertical-align: top;\n",
       "    }\n",
       "\n",
       "    .dataframe thead th {\n",
       "        text-align: right;\n",
       "    }\n",
       "</style>\n",
       "<table border=\"1\" class=\"dataframe\">\n",
       "  <thead>\n",
       "    <tr style=\"text-align: right;\">\n",
       "      <th></th>\n",
       "      <th>sepal_length</th>\n",
       "      <th>species</th>\n",
       "    </tr>\n",
       "  </thead>\n",
       "  <tbody>\n",
       "    <tr>\n",
       "      <th>0</th>\n",
       "      <td>5.1</td>\n",
       "      <td>setosa</td>\n",
       "    </tr>\n",
       "  </tbody>\n",
       "</table>\n",
       "</div>"
      ],
      "text/plain": [
       "   sepal_length species\n",
       "0           5.1  setosa"
      ]
     },
     "execution_count": 1,
     "metadata": {},
     "output_type": "execute_result"
    }
   ],
   "source": [
    "import seaborn as sns \n",
    "import pandas as pd \n",
    "\n",
    "iris = sns.load_dataset(\"iris\")\n",
    "result = iris.loc[:, ['sepal_length', 'species']]\n",
    "result.head(1)"
   ]
  },
  {
   "cell_type": "code",
   "execution_count": 2,
   "id": "c05ff6d6-a0b9-4da2-954e-3481b0083e0b",
   "metadata": {},
   "outputs": [],
   "source": [
    "result.to_excel(\"dataset/iris_excel_file.xlsx\", sheet_name='Sheet_name_1', index=False)"
   ]
  },
  {
   "cell_type": "code",
   "execution_count": 3,
   "id": "48c7c475-8dbc-4b2b-9ee5-2d941cdc5cfd",
   "metadata": {},
   "outputs": [
    {
     "data": {
      "text/html": [
       "<div>\n",
       "<style scoped>\n",
       "    .dataframe tbody tr th:only-of-type {\n",
       "        vertical-align: middle;\n",
       "    }\n",
       "\n",
       "    .dataframe tbody tr th {\n",
       "        vertical-align: top;\n",
       "    }\n",
       "\n",
       "    .dataframe thead th {\n",
       "        text-align: right;\n",
       "    }\n",
       "</style>\n",
       "<table border=\"1\" class=\"dataframe\">\n",
       "  <thead>\n",
       "    <tr style=\"text-align: right;\">\n",
       "      <th></th>\n",
       "      <th>sepal_length</th>\n",
       "      <th>species</th>\n",
       "    </tr>\n",
       "  </thead>\n",
       "  <tbody>\n",
       "    <tr>\n",
       "      <th>0</th>\n",
       "      <td>5.1</td>\n",
       "      <td>setosa</td>\n",
       "    </tr>\n",
       "    <tr>\n",
       "      <th>1</th>\n",
       "      <td>4.9</td>\n",
       "      <td>setosa</td>\n",
       "    </tr>\n",
       "    <tr>\n",
       "      <th>2</th>\n",
       "      <td>4.7</td>\n",
       "      <td>setosa</td>\n",
       "    </tr>\n",
       "    <tr>\n",
       "      <th>3</th>\n",
       "      <td>4.6</td>\n",
       "      <td>setosa</td>\n",
       "    </tr>\n",
       "    <tr>\n",
       "      <th>4</th>\n",
       "      <td>5.0</td>\n",
       "      <td>setosa</td>\n",
       "    </tr>\n",
       "    <tr>\n",
       "      <th>...</th>\n",
       "      <td>...</td>\n",
       "      <td>...</td>\n",
       "    </tr>\n",
       "    <tr>\n",
       "      <th>145</th>\n",
       "      <td>6.7</td>\n",
       "      <td>virginica</td>\n",
       "    </tr>\n",
       "    <tr>\n",
       "      <th>146</th>\n",
       "      <td>6.3</td>\n",
       "      <td>virginica</td>\n",
       "    </tr>\n",
       "    <tr>\n",
       "      <th>147</th>\n",
       "      <td>6.5</td>\n",
       "      <td>virginica</td>\n",
       "    </tr>\n",
       "    <tr>\n",
       "      <th>148</th>\n",
       "      <td>6.2</td>\n",
       "      <td>virginica</td>\n",
       "    </tr>\n",
       "    <tr>\n",
       "      <th>149</th>\n",
       "      <td>5.9</td>\n",
       "      <td>virginica</td>\n",
       "    </tr>\n",
       "  </tbody>\n",
       "</table>\n",
       "<p>150 rows × 2 columns</p>\n",
       "</div>"
      ],
      "text/plain": [
       "     sepal_length    species\n",
       "0             5.1     setosa\n",
       "1             4.9     setosa\n",
       "2             4.7     setosa\n",
       "3             4.6     setosa\n",
       "4             5.0     setosa\n",
       "..            ...        ...\n",
       "145           6.7  virginica\n",
       "146           6.3  virginica\n",
       "147           6.5  virginica\n",
       "148           6.2  virginica\n",
       "149           5.9  virginica\n",
       "\n",
       "[150 rows x 2 columns]"
      ]
     },
     "execution_count": 3,
     "metadata": {},
     "output_type": "execute_result"
    }
   ],
   "source": [
    "iris_df = pd.read_excel(\"dataset/iris_excel_file.xlsx\")\n",
    "iris_df"
   ]
  },
  {
   "cell_type": "markdown",
   "id": "bcb5e740-f859-47ef-aad5-e54b482428b4",
   "metadata": {},
   "source": [
    "# Group By 연산\n",
    "-집계함수 같이 활용\n",
    "-그룹별로 비교하고 싶을 때 사용\n",
    " "
   ]
  },
  {
   "cell_type": "code",
   "execution_count": 4,
   "id": "b0e47492-47e9-43b1-9076-258c41e28d1e",
   "metadata": {},
   "outputs": [
    {
     "data": {
      "text/html": [
       "<div>\n",
       "<style scoped>\n",
       "    .dataframe tbody tr th:only-of-type {\n",
       "        vertical-align: middle;\n",
       "    }\n",
       "\n",
       "    .dataframe tbody tr th {\n",
       "        vertical-align: top;\n",
       "    }\n",
       "\n",
       "    .dataframe thead th {\n",
       "        text-align: right;\n",
       "    }\n",
       "</style>\n",
       "<table border=\"1\" class=\"dataframe\">\n",
       "  <thead>\n",
       "    <tr style=\"text-align: right;\">\n",
       "      <th></th>\n",
       "      <th>total_bill</th>\n",
       "      <th>tip</th>\n",
       "      <th>sex</th>\n",
       "      <th>smoker</th>\n",
       "      <th>day</th>\n",
       "      <th>time</th>\n",
       "      <th>size</th>\n",
       "    </tr>\n",
       "  </thead>\n",
       "  <tbody>\n",
       "    <tr>\n",
       "      <th>0</th>\n",
       "      <td>16.99</td>\n",
       "      <td>1.01</td>\n",
       "      <td>Female</td>\n",
       "      <td>No</td>\n",
       "      <td>Sun</td>\n",
       "      <td>Dinner</td>\n",
       "      <td>2</td>\n",
       "    </tr>\n",
       "  </tbody>\n",
       "</table>\n",
       "</div>"
      ],
      "text/plain": [
       "   total_bill   tip     sex smoker  day    time  size\n",
       "0       16.99  1.01  Female     No  Sun  Dinner     2"
      ]
     },
     "execution_count": 4,
     "metadata": {},
     "output_type": "execute_result"
    }
   ],
   "source": [
    "import seaborn as sns\n",
    "\n",
    "tips = sns.load_dataset(\"tips\")\n",
    "tips.head(1)"
   ]
  },
  {
   "cell_type": "markdown",
   "id": "ba369b50-2b65-4ce1-a1b9-2c546d71ba5d",
   "metadata": {},
   "source": [
    "## 성별로 tip 평균 구하기"
   ]
  },
  {
   "cell_type": "code",
   "execution_count": 7,
   "id": "3e0b693b-1497-42f0-a0e5-ed644f7dd782",
   "metadata": {},
   "outputs": [
    {
     "data": {
      "text/plain": [
       "sex\n",
       "Male      3.089618\n",
       "Female    2.833448\n",
       "Name: tip, dtype: float64"
      ]
     },
     "execution_count": 7,
     "metadata": {},
     "output_type": "execute_result"
    }
   ],
   "source": [
    "tips.groupby('sex', observed = True )['tip'].mean()\n",
    "\n",
    "#통계적으로 유의한가 : 기초 통계 영역으로 넘어감."
   ]
  },
  {
   "cell_type": "code",
   "execution_count": 13,
   "id": "b232b5c8-330b-4a44-82ee-1343d4d98e25",
   "metadata": {},
   "outputs": [
    {
     "data": {
      "text/plain": [
       "day   sex   \n",
       "Thur  Male       89.41\n",
       "      Female     82.42\n",
       "Fri   Male       26.93\n",
       "      Female     25.03\n",
       "Sat   Male      181.95\n",
       "      Female     78.45\n",
       "Sun   Male      186.78\n",
       "      Female     60.61\n",
       "Name: tip, dtype: float64"
      ]
     },
     "execution_count": 13,
     "metadata": {},
     "output_type": "execute_result"
    }
   ],
   "source": [
    "#요일별 총 결제 금액\n",
    "#집계함수 = sum()\n",
    "#인간은 표 상으로 6줄 넘어가면 인지하기 힘들기 때문에 한방에 이해시킬 수 있어야 한다.\n",
    "tips.groupby(['day', 'sex'], observed = True)['tip'].sum()"
   ]
  },
  {
   "cell_type": "markdown",
   "id": "01343d30-b440-4079-80c4-f6f062f809f0",
   "metadata": {},
   "source": [
    "## 식사 시간별 인원 수 평균\n"
   ]
  },
  {
   "cell_type": "code",
   "execution_count": 14,
   "id": "e69be813-ea1d-4fc3-803a-a26489a4ef2b",
   "metadata": {},
   "outputs": [
    {
     "data": {
      "text/plain": [
       "time\n",
       "Lunch     2.411765\n",
       "Dinner    2.630682\n",
       "Name: size, dtype: float64"
      ]
     },
     "execution_count": 14,
     "metadata": {},
     "output_type": "execute_result"
    }
   ],
   "source": [
    "tips.groupby(['time'], observed = True)['size'].mean()"
   ]
  },
  {
   "cell_type": "markdown",
   "id": "39df2466-e4e6-4af5-a64e-8c14de9f177d",
   "metadata": {},
   "source": [
    "## 두가지 범주 그룹바이 출력 변환"
   ]
  },
  {
   "cell_type": "code",
   "execution_count": 15,
   "id": "a7373b88-acd3-455c-9372-54a2c3cc2933",
   "metadata": {},
   "outputs": [
    {
     "data": {
      "text/html": [
       "<div>\n",
       "<style scoped>\n",
       "    .dataframe tbody tr th:only-of-type {\n",
       "        vertical-align: middle;\n",
       "    }\n",
       "\n",
       "    .dataframe tbody tr th {\n",
       "        vertical-align: top;\n",
       "    }\n",
       "\n",
       "    .dataframe thead th {\n",
       "        text-align: right;\n",
       "    }\n",
       "</style>\n",
       "<table border=\"1\" class=\"dataframe\">\n",
       "  <thead>\n",
       "    <tr style=\"text-align: right;\">\n",
       "      <th>sex</th>\n",
       "      <th>Male</th>\n",
       "      <th>Female</th>\n",
       "    </tr>\n",
       "    <tr>\n",
       "      <th>day</th>\n",
       "      <th></th>\n",
       "      <th></th>\n",
       "    </tr>\n",
       "  </thead>\n",
       "  <tbody>\n",
       "    <tr>\n",
       "      <th>Thur</th>\n",
       "      <td>2.980333</td>\n",
       "      <td>2.575625</td>\n",
       "    </tr>\n",
       "    <tr>\n",
       "      <th>Fri</th>\n",
       "      <td>2.693000</td>\n",
       "      <td>2.781111</td>\n",
       "    </tr>\n",
       "    <tr>\n",
       "      <th>Sat</th>\n",
       "      <td>3.083898</td>\n",
       "      <td>2.801786</td>\n",
       "    </tr>\n",
       "    <tr>\n",
       "      <th>Sun</th>\n",
       "      <td>3.220345</td>\n",
       "      <td>3.367222</td>\n",
       "    </tr>\n",
       "  </tbody>\n",
       "</table>\n",
       "</div>"
      ],
      "text/plain": [
       "sex       Male    Female\n",
       "day                     \n",
       "Thur  2.980333  2.575625\n",
       "Fri   2.693000  2.781111\n",
       "Sat   3.083898  2.801786\n",
       "Sun   3.220345  3.367222"
      ]
     },
     "execution_count": 15,
     "metadata": {},
     "output_type": "execute_result"
    }
   ],
   "source": [
    "result = tips.groupby(['day', 'sex'], observed=True)['tip'].mean()\n",
    "result.unstack() #히트맵 시각화로 바로 적용"
   ]
  },
  {
   "cell_type": "markdown",
   "id": "14e00be2-2801-4267-ad8c-a0a52fb1ab59",
   "metadata": {},
   "source": [
    "## 집계함수 2개 사용하기"
   ]
  },
  {
   "cell_type": "code",
   "execution_count": 22,
   "id": "a35721cf-4b86-4fd1-9cb9-4cf787b6431e",
   "metadata": {},
   "outputs": [
    {
     "data": {
      "text/html": [
       "<div>\n",
       "<style scoped>\n",
       "    .dataframe tbody tr th:only-of-type {\n",
       "        vertical-align: middle;\n",
       "    }\n",
       "\n",
       "    .dataframe tbody tr th {\n",
       "        vertical-align: top;\n",
       "    }\n",
       "\n",
       "    .dataframe thead th {\n",
       "        text-align: right;\n",
       "    }\n",
       "</style>\n",
       "<table border=\"1\" class=\"dataframe\">\n",
       "  <thead>\n",
       "    <tr style=\"text-align: right;\">\n",
       "      <th></th>\n",
       "      <th>day</th>\n",
       "      <th>sex</th>\n",
       "      <th>tip_sum</th>\n",
       "      <th>tip_mean</th>\n",
       "      <th>total_bill_sum</th>\n",
       "      <th>total_bill_mean</th>\n",
       "    </tr>\n",
       "  </thead>\n",
       "  <tbody>\n",
       "    <tr>\n",
       "      <th>0</th>\n",
       "      <td>Thur</td>\n",
       "      <td>Male</td>\n",
       "      <td>89.41</td>\n",
       "      <td>2.980333</td>\n",
       "      <td>561.44</td>\n",
       "      <td>18.714667</td>\n",
       "    </tr>\n",
       "    <tr>\n",
       "      <th>1</th>\n",
       "      <td>Thur</td>\n",
       "      <td>Female</td>\n",
       "      <td>82.42</td>\n",
       "      <td>2.575625</td>\n",
       "      <td>534.89</td>\n",
       "      <td>16.715312</td>\n",
       "    </tr>\n",
       "    <tr>\n",
       "      <th>2</th>\n",
       "      <td>Fri</td>\n",
       "      <td>Male</td>\n",
       "      <td>26.93</td>\n",
       "      <td>2.693000</td>\n",
       "      <td>198.57</td>\n",
       "      <td>19.857000</td>\n",
       "    </tr>\n",
       "    <tr>\n",
       "      <th>3</th>\n",
       "      <td>Fri</td>\n",
       "      <td>Female</td>\n",
       "      <td>25.03</td>\n",
       "      <td>2.781111</td>\n",
       "      <td>127.31</td>\n",
       "      <td>14.145556</td>\n",
       "    </tr>\n",
       "    <tr>\n",
       "      <th>4</th>\n",
       "      <td>Sat</td>\n",
       "      <td>Male</td>\n",
       "      <td>181.95</td>\n",
       "      <td>3.083898</td>\n",
       "      <td>1227.35</td>\n",
       "      <td>20.802542</td>\n",
       "    </tr>\n",
       "    <tr>\n",
       "      <th>5</th>\n",
       "      <td>Sat</td>\n",
       "      <td>Female</td>\n",
       "      <td>78.45</td>\n",
       "      <td>2.801786</td>\n",
       "      <td>551.05</td>\n",
       "      <td>19.680357</td>\n",
       "    </tr>\n",
       "    <tr>\n",
       "      <th>6</th>\n",
       "      <td>Sun</td>\n",
       "      <td>Male</td>\n",
       "      <td>186.78</td>\n",
       "      <td>3.220345</td>\n",
       "      <td>1269.46</td>\n",
       "      <td>21.887241</td>\n",
       "    </tr>\n",
       "    <tr>\n",
       "      <th>7</th>\n",
       "      <td>Sun</td>\n",
       "      <td>Female</td>\n",
       "      <td>60.61</td>\n",
       "      <td>3.367222</td>\n",
       "      <td>357.70</td>\n",
       "      <td>19.872222</td>\n",
       "    </tr>\n",
       "  </tbody>\n",
       "</table>\n",
       "</div>"
      ],
      "text/plain": [
       "    day     sex  tip_sum  tip_mean  total_bill_sum  total_bill_mean\n",
       "0  Thur    Male    89.41  2.980333          561.44        18.714667\n",
       "1  Thur  Female    82.42  2.575625          534.89        16.715312\n",
       "2   Fri    Male    26.93  2.693000          198.57        19.857000\n",
       "3   Fri  Female    25.03  2.781111          127.31        14.145556\n",
       "4   Sat    Male   181.95  3.083898         1227.35        20.802542\n",
       "5   Sat  Female    78.45  2.801786          551.05        19.680357\n",
       "6   Sun    Male   186.78  3.220345         1269.46        21.887241\n",
       "7   Sun  Female    60.61  3.367222          357.70        19.872222"
      ]
     },
     "execution_count": 22,
     "metadata": {},
     "output_type": "execute_result"
    }
   ],
   "source": [
    "# tips.groupby(['day', 'sex'], observed = True)['tip'].agg(['sum', 'mean'])\n",
    "result = tips.groupby(['day', 'sex'], observed = True)[['tip','total_bill']].agg(['sum', 'mean'])\n",
    "result.columns = ['_'.join(col) for col in result.columns]\n",
    "result.reset_index()"
   ]
  },
  {
   "cell_type": "code",
   "execution_count": null,
   "id": "9ce1dab1-19cb-4ed0-8dc1-9b7cd31b8fe0",
   "metadata": {},
   "outputs": [],
   "source": []
  }
 ],
 "metadata": {
  "kernelspec": {
   "display_name": "Python 3 (ipykernel)",
   "language": "python",
   "name": "python3"
  },
  "language_info": {
   "codemirror_mode": {
    "name": "ipython",
    "version": 3
   },
   "file_extension": ".py",
   "mimetype": "text/x-python",
   "name": "python",
   "nbconvert_exporter": "python",
   "pygments_lexer": "ipython3",
   "version": "3.13.2"
  }
 },
 "nbformat": 4,
 "nbformat_minor": 5
}
